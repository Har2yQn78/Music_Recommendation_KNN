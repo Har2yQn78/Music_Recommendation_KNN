{
 "cells": [
  {
   "cell_type": "code",
   "execution_count": 14,
   "id": "0a0c0bc4-c252-4dc4-886a-ffd95e4fc51d",
   "metadata": {},
   "outputs": [],
   "source": [
    "import pandas as pd\n",
    "import sqlite3\n",
    "from sklearn.model_selection import train_test_split\n",
    "from recommender import popularity_recommender_py, item_similarity_recommender_py"
   ]
  },
  {
   "cell_type": "code",
   "execution_count": 15,
   "id": "59e83d8a-72a6-4e4e-aed0-2adc496b1778",
   "metadata": {},
   "outputs": [
    {
     "name": "stdout",
     "output_type": "stream",
     "text": [
      "                                    user_id             song_id  listen_count\n",
      "0  b80344d063b5ccb3212f76538f3d9e43d87dca9e  SOAKIMP12A8C130995             1\n",
      "1  b80344d063b5ccb3212f76538f3d9e43d87dca9e  SOAPDEY12A81C210A9             1\n",
      "2  b80344d063b5ccb3212f76538f3d9e43d87dca9e  SOBBMDR12A8C13253B             2\n",
      "3  b80344d063b5ccb3212f76538f3d9e43d87dca9e  SOBFNSP12AF72A0E22             1\n",
      "4  b80344d063b5ccb3212f76538f3d9e43d87dca9e  SOBFOVM12A58A7D494             1\n",
      "              song_id              title  \\\n",
      "0  SOQMMHC12AB0180CB8       Silent Night   \n",
      "1  SOVFVAK12A8C1350D9        Tanssi vaan   \n",
      "2  SOGTUKN12AB017F4F1  No One Could Ever   \n",
      "3  SOBNYVR12A8C13558C      Si Vos Querés   \n",
      "4  SOHSBXH12A8C13B0DF   Tangle Of Aspens   \n",
      "\n",
      "                                release       artist_name  \n",
      "0                 Monster Ballads X-Mas  Faster Pussy cat  \n",
      "1                           Karkuteillä  Karkkiautomaatti  \n",
      "2                                Butter    Hudson Mohawke  \n",
      "3                               De Culo       Yerba Brava  \n",
      "4  Rene Ablaze Presents Winter Sessions        Der Mystic  \n"
     ]
    }
   ],
   "source": [
    "# Load a smaller chunk of the triplet data\n",
    "triplets_df_chunk = pd.read_csv('C:\\\\Users\\\\HARRY\\\\Desktop\\\\Music Recomendation\\\\data\\\\train_triplets.txt', sep='\\t', names=['user_id', 'song_id', 'listen_count'], nrows=500000)\n",
    "\n",
    "# Load the metadata\n",
    "metadata_df = pd.read_sql_query('SELECT song_id, title, release, artist_name FROM songs', 'sqlite:///C:\\\\Users\\\\HARRY\\\\Desktop\\\\Music Recomendation\\\\data\\\\track_metadata.db')\n",
    "\n",
    "print(triplets_df_chunk.head())\n",
    "print(metadata_df.head())\n"
   ]
  },
  {
   "cell_type": "code",
   "execution_count": 16,
   "id": "3c79158e-9bf6-48c2-b1d3-b2b8b6b1add5",
   "metadata": {},
   "outputs": [
    {
     "name": "stdout",
     "output_type": "stream",
     "text": [
      "                                    user_id             song_id  listen_count  \\\n",
      "0  b80344d063b5ccb3212f76538f3d9e43d87dca9e  SOAKIMP12A8C130995             1   \n",
      "1  b80344d063b5ccb3212f76538f3d9e43d87dca9e  SOAPDEY12A81C210A9             1   \n",
      "2  b80344d063b5ccb3212f76538f3d9e43d87dca9e  SOBBMDR12A8C13253B             2   \n",
      "3  b80344d063b5ccb3212f76538f3d9e43d87dca9e  SOBFNSP12AF72A0E22             1   \n",
      "4  b80344d063b5ccb3212f76538f3d9e43d87dca9e  SOBFOVM12A58A7D494             1   \n",
      "\n",
      "                             title  \\\n",
      "0                         The Cove   \n",
      "1             Nothing from Nothing   \n",
      "2                  Entre Dos Aguas   \n",
      "3            Under Cold Blue Stars   \n",
      "4  Riot Radio (Soundtrack Version)   \n",
      "\n",
      "                                             release    artist_name  \n",
      "0                                 Thicker Than Water   Jack Johnson  \n",
      "1                                         To Die For  Billy Preston  \n",
      "2                                Flamenco Para Niños  Paco De Lucia  \n",
      "3                              Under Cold Blue Stars     Josh Rouse  \n",
      "4  Nick & Norah's Infinite Playlist - Original Mo...   The Dead 60s  \n"
     ]
    }
   ],
   "source": [
    "# Merge the dataframes on 'song_id'\n",
    "combined_df_chunk = pd.merge(triplets_df_chunk, metadata_df, on='song_id', how='inner')\n",
    "\n",
    "# Drop any duplicate columns if necessary\n",
    "combined_df_chunk = combined_df_chunk.loc[:, ~combined_df_chunk.columns.duplicated()]\n",
    "\n",
    "# Display the combined dataframe\n",
    "print(combined_df_chunk.head())\n"
   ]
  },
  {
   "cell_type": "code",
   "execution_count": 17,
   "id": "18ec9ee1-13f5-45c4-9dd6-3986d5caf7f2",
   "metadata": {},
   "outputs": [
    {
     "name": "stdout",
     "output_type": "stream",
     "text": [
      "                                       song_artist  listen_count  percentage\n",
      "28  16th St. Dozens (Album Version) - Two Gallants             1     0.00395\n",
      "29                              19-2000 - Gorillaz             1     0.00395\n",
      "30                                  1958 - Skalpel             1     0.00395\n",
      "31                               1975 - Gene Clark             1     0.00395\n",
      "35                                     1995 - Luna             1     0.00395\n"
     ]
    }
   ],
   "source": [
    "# Create a combined song_artist column\n",
    "combined_df_chunk['song_artist'] = combined_df_chunk['title'] + ' - ' + combined_df_chunk['artist_name']\n",
    "\n",
    "# Select the first 10,000 songs\n",
    "subset_df_chunk = combined_df_chunk.head(10000)\n",
    "\n",
    "# Group by 'song_artist' and calculate the total listen count for each song\n",
    "grouped_df_chunk = subset_df_chunk.groupby('song_artist')['listen_count'].sum().reset_index()\n",
    "\n",
    "# Calculate the sum of all listen counts\n",
    "total_listens_chunk = grouped_df_chunk['listen_count'].sum()\n",
    "\n",
    "# Add a new column 'percentage' that calculates the percentage of total listens\n",
    "grouped_df_chunk['percentage'] = (grouped_df_chunk['listen_count'] / total_listens_chunk) * 100\n",
    "\n",
    "# Sort the songs in ascending order of popularity (percentage)\n",
    "sorted_df_chunk = grouped_df_chunk.sort_values(by='percentage', ascending=True)\n",
    "\n",
    "# Display the sorted dataframe\n",
    "print(sorted_df_chunk.head())\n"
   ]
  },
  {
   "cell_type": "code",
   "execution_count": 18,
   "id": "d530e77d-b792-46b7-89fc-1a43d82b3e7d",
   "metadata": {},
   "outputs": [
    {
     "name": "stdout",
     "output_type": "stream",
     "text": [
      "Number of unique users: 10354\n",
      "Number of unique songs: 108797\n"
     ]
    }
   ],
   "source": [
    "num_users = combined_df_chunk['user_id'].nunique()\n",
    "num_songs = combined_df_chunk['song_id'].nunique()\n",
    "\n",
    "print(f\"Number of unique users: {num_users}\")\n",
    "print(f\"Number of unique songs: {num_songs}\")\n"
   ]
  },
  {
   "cell_type": "code",
   "execution_count": 19,
   "id": "600f4ae2-7998-4ae8-9da1-54ac8ef86f11",
   "metadata": {},
   "outputs": [
    {
     "name": "stdout",
     "output_type": "stream",
     "text": [
      "Training data shape: (410288, 7)\n",
      "Testing data shape: (102573, 7)\n"
     ]
    }
   ],
   "source": [
    "train_data, test_data = train_test_split(combined_df_chunk, test_size=0.2, random_state=42)\n",
    "\n",
    "print(f\"Training data shape: {train_data.shape}\")\n",
    "print(f\"Testing data shape: {test_data.shape}\")\n"
   ]
  },
  {
   "cell_type": "code",
   "execution_count": 20,
   "id": "6c859969-ef58-489b-9784-28b369560b2b",
   "metadata": {},
   "outputs": [],
   "source": [
    "# Create an instance of popularity-based recommender class\n",
    "popularity_model = popularity_recommender_py()\n",
    "popularity_model.create(train_data, 'user_id', 'song_id')\n"
   ]
  },
  {
   "cell_type": "code",
   "execution_count": 21,
   "id": "165cb20c-229e-414f-8e43-8d64482c4cb4",
   "metadata": {},
   "outputs": [
    {
     "name": "stdout",
     "output_type": "stream",
     "text": [
      "            user_id             song_id  score  Rank\n",
      "22689  some_user_id  SOFRQTD12A81C233C0    933   1.0\n",
      "83992  some_user_id  SOWCKVR12A8C142411    835   2.0\n",
      "3551   some_user_id  SOAXGDH12A8C13F8A1    748   3.0\n",
      "3195   some_user_id  SOAUWYT12A81C206F1    733   4.0\n",
      "6162   some_user_id  SOBONKR12A58A7A7E0    648   5.0\n",
      "54400  some_user_id  SONYKOW12AB01849C9    637   6.0\n",
      "72625  some_user_id  SOSXLTC12AF72A7F54    624   7.0\n",
      "13091  some_user_id  SODGVGW12AC9075A8D    572   8.0\n",
      "61721  some_user_id  SOPXKYD12A6D4FA876    553   9.0\n",
      "16992  some_user_id  SOEGIYH12A6D4FC0E3    549  10.0\n"
     ]
    }
   ],
   "source": [
    "# Make recommendations for a user\n",
    "user_id = 'some_user_id'  # Replace 'some_user_id' with an actual user id from your dataset\n",
    "recommendations = popularity_model.recommend(user_id)\n",
    "print(recommendations)\n"
   ]
  },
  {
   "cell_type": "code",
   "execution_count": 22,
   "id": "8f554cfb-c210-43e3-803a-7d78cd8c14eb",
   "metadata": {},
   "outputs": [],
   "source": [
    "# Create an instance of item similarity-based recommender class\n",
    "item_similarity_model = item_similarity_recommender_py()\n",
    "item_similarity_model.create(train_data, 'user_id', 'song_id')\n"
   ]
  },
  {
   "cell_type": "code",
   "execution_count": null,
   "id": "e112a800-7a37-4f39-9517-40399872de75",
   "metadata": {},
   "outputs": [
    {
     "name": "stdout",
     "output_type": "stream",
     "text": [
      "No. of unique songs for the user: 0\n",
      "no. of unique songs in the training set: 97655\n"
     ]
    }
   ],
   "source": [
    "# Make item similarity-based recommendations for a user\n",
    "item_recommendations = item_similarity_model.recommend(user_id)\n",
    "print(item_recommendations)\n"
   ]
  },
  {
   "cell_type": "code",
   "execution_count": null,
   "id": "21ac65a5-ca48-4ed9-8643-b72eb370e2c6",
   "metadata": {},
   "outputs": [],
   "source": []
  },
  {
   "cell_type": "code",
   "execution_count": null,
   "id": "3e996c8e-db7e-4ee5-afb2-c61f7885442e",
   "metadata": {},
   "outputs": [],
   "source": []
  },
  {
   "cell_type": "code",
   "execution_count": null,
   "id": "d759bf25-1cba-46dd-b8d6-ffb3061c274e",
   "metadata": {},
   "outputs": [],
   "source": []
  },
  {
   "cell_type": "code",
   "execution_count": null,
   "id": "45e4348f-4d04-4369-a0b3-93e7759d7c03",
   "metadata": {},
   "outputs": [],
   "source": []
  },
  {
   "cell_type": "code",
   "execution_count": null,
   "id": "4ebf416a-d332-4d69-b83d-aab74c545907",
   "metadata": {},
   "outputs": [],
   "source": []
  }
 ],
 "metadata": {
  "kernelspec": {
   "display_name": "Python 3 (ipykernel)",
   "language": "python",
   "name": "python3"
  },
  "language_info": {
   "codemirror_mode": {
    "name": "ipython",
    "version": 3
   },
   "file_extension": ".py",
   "mimetype": "text/x-python",
   "name": "python",
   "nbconvert_exporter": "python",
   "pygments_lexer": "ipython3",
   "version": "3.12.5"
  }
 },
 "nbformat": 4,
 "nbformat_minor": 5
}
