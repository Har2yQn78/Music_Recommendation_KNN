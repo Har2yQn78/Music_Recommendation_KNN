{
 "cells": [
  {
   "cell_type": "code",
   "execution_count": 6,
   "id": "0f808c5b-d224-44cb-af33-c520ea33ed5c",
   "metadata": {},
   "outputs": [],
   "source": [
    "import pandas as pd\n",
    "import sqlite3\n",
    "import matplotlib.pyplot as plt\n",
    "import seaborn as sns\n",
    "from sklearn.metrics import accuracy_score\n",
    "from item_similarity_recommender import item_similarity_recommender_py\n",
    "from sklearn.model_selection import train_test_split\n"
   ]
  },
  {
   "cell_type": "code",
   "execution_count": 7,
   "id": "e74152cd-7aab-4f71-a77a-d745b3751bc9",
   "metadata": {},
   "outputs": [
    {
     "name": "stdout",
     "output_type": "stream",
     "text": [
      "Song metadata sample:\n",
      "              song_id              title       artist_name\n",
      "0  TRMMMYQ128F932D901       Silent Night  Faster Pussy cat\n",
      "1  TRMMMKD128F425225D        Tanssi vaan  Karkkiautomaatti\n",
      "2  TRMMMRX128F93187D9  No One Could Ever    Hudson Mohawke\n",
      "3  TRMMMCH128F425532C      Si Vos Querés       Yerba Brava\n",
      "4  TRMMMWA128F426B589   Tangle Of Aspens        Der Mystic\n",
      "Dataset sample:\n",
      "                                    user_id             song_id  listen_count\n",
      "0  b80344d063b5ccb3212f76538f3d9e43d87dca9e  SOAKIMP12A8C130995             1\n",
      "1  b80344d063b5ccb3212f76538f3d9e43d87dca9e  SOAPDEY12A81C210A9             1\n",
      "2  b80344d063b5ccb3212f76538f3d9e43d87dca9e  SOBBMDR12A8C13253B             2\n",
      "3  b80344d063b5ccb3212f76538f3d9e43d87dca9e  SOBFNSP12AF72A0E22             1\n",
      "4  b80344d063b5ccb3212f76538f3d9e43d87dca9e  SOBFOVM12A58A7D494             1\n"
     ]
    }
   ],
   "source": [
    "conn = sqlite3.connect('data/track_metadata.db')\n",
    "\n",
    "song_metadata_query = \"SELECT track_id as song_id, title, artist_name FROM songs\"\n",
    "song_metadata = pd.read_sql_query(song_metadata_query, conn)\n",
    "\n",
    "data_path = \"data/train_triplets.txt\"\n",
    "df = pd.read_csv(data_path, delimiter='\\t', header=None, names=['user_id', 'song_id', 'listen_count'])\n",
    "\n",
    "print(\"Song metadata sample:\")\n",
    "print(song_metadata.head())\n",
    "\n",
    "print(\"Dataset sample:\")\n",
    "print(df.head())\n",
    "\n",
    "\n",
    "conn.close()"
   ]
  },
  {
   "cell_type": "code",
   "execution_count": 8,
   "id": "aedaf316-c318-469f-bc2f-160165581349",
   "metadata": {},
   "outputs": [],
   "source": [
    "# Create the recommender system instance\n",
    "is_model = item_similarity_recommender_py()\n",
    "is_model.create(df, 'user_id', 'song_id')\n",
    "is_model.set_song_metadata(song_metadata)"
   ]
  },
  {
   "cell_type": "code",
   "execution_count": 9,
   "id": "6d81d6d6-bbfe-421c-9cc4-d324c61f4038",
   "metadata": {},
   "outputs": [
    {
     "ename": "TypeError",
     "evalue": "item_similarity_recommender_py.recommend() got an unexpected keyword argument 'top_n'",
     "output_type": "error",
     "traceback": [
      "\u001b[1;31m---------------------------------------------------------------------------\u001b[0m",
      "\u001b[1;31mTypeError\u001b[0m                                 Traceback (most recent call last)",
      "Cell \u001b[1;32mIn[9], line 27\u001b[0m\n\u001b[0;32m     24\u001b[0m     accuracy \u001b[38;5;241m=\u001b[39m correct_predictions \u001b[38;5;241m/\u001b[39m total_predictions \u001b[38;5;28;01mif\u001b[39;00m total_predictions \u001b[38;5;241m>\u001b[39m \u001b[38;5;241m0\u001b[39m \u001b[38;5;28;01melse\u001b[39;00m \u001b[38;5;241m0\u001b[39m\n\u001b[0;32m     25\u001b[0m     \u001b[38;5;28;01mreturn\u001b[39;00m accuracy\n\u001b[1;32m---> 27\u001b[0m accuracy \u001b[38;5;241m=\u001b[39m \u001b[43mcalculate_accuracy\u001b[49m\u001b[43m(\u001b[49m\u001b[43mtest_data\u001b[49m\u001b[43m)\u001b[49m\n\u001b[0;32m     28\u001b[0m \u001b[38;5;28mprint\u001b[39m(\u001b[38;5;124mf\u001b[39m\u001b[38;5;124m\"\u001b[39m\u001b[38;5;124mRecommendation System Accuracy: \u001b[39m\u001b[38;5;132;01m{\u001b[39;00maccuracy\u001b[38;5;250m \u001b[39m\u001b[38;5;241m*\u001b[39m\u001b[38;5;250m \u001b[39m\u001b[38;5;241m100\u001b[39m\u001b[38;5;132;01m:\u001b[39;00m\u001b[38;5;124m.2f\u001b[39m\u001b[38;5;132;01m}\u001b[39;00m\u001b[38;5;124m%\u001b[39m\u001b[38;5;124m\"\u001b[39m)\n",
      "Cell \u001b[1;32mIn[9], line 17\u001b[0m, in \u001b[0;36mcalculate_accuracy\u001b[1;34m(test_data)\u001b[0m\n\u001b[0;32m     15\u001b[0m user_test_data \u001b[38;5;241m=\u001b[39m test_data[test_data[\u001b[38;5;124m'\u001b[39m\u001b[38;5;124muser_id\u001b[39m\u001b[38;5;124m'\u001b[39m] \u001b[38;5;241m==\u001b[39m user_id]\n\u001b[0;32m     16\u001b[0m user_items \u001b[38;5;241m=\u001b[39m user_test_data[\u001b[38;5;124m'\u001b[39m\u001b[38;5;124msong_id\u001b[39m\u001b[38;5;124m'\u001b[39m]\u001b[38;5;241m.\u001b[39mtolist()\n\u001b[1;32m---> 17\u001b[0m recommendations \u001b[38;5;241m=\u001b[39m \u001b[43mis_model\u001b[49m\u001b[38;5;241;43m.\u001b[39;49m\u001b[43mrecommend\u001b[49m\u001b[43m(\u001b[49m\u001b[43muser_id\u001b[49m\u001b[43m,\u001b[49m\u001b[43m \u001b[49m\u001b[43mtop_n\u001b[49m\u001b[38;5;241;43m=\u001b[39;49m\u001b[38;5;241;43m10\u001b[39;49m\u001b[43m)\u001b[49m\n\u001b[0;32m     19\u001b[0m \u001b[38;5;28;01mfor\u001b[39;00m song_id \u001b[38;5;129;01min\u001b[39;00m user_items:\n\u001b[0;32m     20\u001b[0m     \u001b[38;5;28;01mif\u001b[39;00m song_id \u001b[38;5;129;01min\u001b[39;00m recommendations:\n",
      "\u001b[1;31mTypeError\u001b[0m: item_similarity_recommender_py.recommend() got an unexpected keyword argument 'top_n'"
     ]
    }
   ],
   "source": [
    "from sklearn.model_selection import train_test_split\n",
    "\n",
    "# Assuming df is your DataFrame containing user-song interactions\n",
    "train_data, test_data = train_test_split(df, test_size=0.2, random_state=42)\n",
    "\n",
    "# Create the recommender system using training data\n",
    "is_model.create(train_data, 'user_id', 'song_id')\n",
    "\n",
    "# Predict and calculate accuracy\n",
    "def calculate_accuracy(test_data):\n",
    "    correct_predictions = 0\n",
    "    total_predictions = 0\n",
    "    \n",
    "    for user_id in test_data['user_id'].unique():\n",
    "        user_test_data = test_data[test_data['user_id'] == user_id]\n",
    "        user_items = user_test_data['song_id'].tolist()\n",
    "        recommendations = is_model.recommend(user_id, top_n=10)\n",
    "        \n",
    "        for song_id in user_items:\n",
    "            if song_id in recommendations:\n",
    "                correct_predictions += 1\n",
    "            total_predictions += 1\n",
    "    \n",
    "    accuracy = correct_predictions / total_predictions if total_predictions > 0 else 0\n",
    "    return accuracy\n",
    "\n",
    "accuracy = calculate_accuracy(test_data)\n",
    "print(f\"Recommendation System Accuracy: {accuracy * 100:.2f}%\")\n"
   ]
  },
  {
   "cell_type": "code",
   "execution_count": null,
   "id": "41bbf3b9-a373-4ab3-8d97-9749240dfb22",
   "metadata": {},
   "outputs": [],
   "source": [
    "# Plot the distribution of listen counts\n",
    "plt.figure(figsize=(10, 6))\n",
    "sns.histplot(df['listen_count'], bins=50, kde=True)\n",
    "plt.title('Distribution of Listen Counts')\n",
    "plt.xlabel('Listen Count')\n",
    "plt.ylabel('Frequency')\n",
    "plt.show()\n",
    "\n",
    "# Plot the top 10 most popular songs\n",
    "top_songs = df['song_id'].value_counts().head(10)\n",
    "top_songs_metadata = song_metadata[song_metadata['song_id'].isin(top_songs.index)]\n",
    "\n",
    "plt.figure(figsize=(12, 8))\n",
    "sns.barplot(x=top_songs_metadata['title'], y=top_songs.values)\n",
    "plt.xticks(rotation=90)\n",
    "plt.title('Top 10 Most Popular Songs')\n",
    "plt.xlabel('Song Title')\n",
    "plt.ylabel('Number of Listens')\n",
    "plt.show()"
   ]
  },
  {
   "cell_type": "code",
   "execution_count": null,
   "id": "b46bac79-13b5-4940-96f8-d1b418907934",
   "metadata": {},
   "outputs": [],
   "source": []
  }
 ],
 "metadata": {
  "kernelspec": {
   "display_name": "Python 3 (ipykernel)",
   "language": "python",
   "name": "python3"
  },
  "language_info": {
   "codemirror_mode": {
    "name": "ipython",
    "version": 3
   },
   "file_extension": ".py",
   "mimetype": "text/x-python",
   "name": "python",
   "nbconvert_exporter": "python",
   "pygments_lexer": "ipython3",
   "version": "3.12.5"
  }
 },
 "nbformat": 4,
 "nbformat_minor": 5
}
